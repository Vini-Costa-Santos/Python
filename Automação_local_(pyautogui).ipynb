{
  "cells": [
    {
      "cell_type": "markdown",
      "metadata": {
        "id": "view-in-github",
        "colab_type": "text"
      },
      "source": [
        "<a href=\"https://colab.research.google.com/github/ViniCostSantos/aquivos-teste/blob/main/Automa%C3%A7%C3%A3o_local_(pyautogui).ipynb\" target=\"_parent\"><img src=\"https://colab.research.google.com/assets/colab-badge.svg\" alt=\"Open In Colab\"/></a>"
      ]
    },
    {
      "cell_type": "markdown",
      "id": "96743497",
      "metadata": {
        "id": "96743497"
      },
      "source": [
        "Texto aleatório"
      ]
    },
    {
      "cell_type": "code",
      "execution_count": null,
      "id": "29b55166",
      "metadata": {
        "id": "29b55166"
      },
      "outputs": [],
      "source": [
        "import pyautogui\n",
        "import pyperclip\n",
        "import time\n",
        "\n",
        "pyautogui.PAUSE = 2\n",
        "\n",
        "pyautogui.press('win')\n",
        "pyautogui.write('bloco')\n",
        "pyautogui.press('enter')\n",
        "\n",
        "time.sleep(3)\n",
        "\n",
        "pyperclip.copy('Te amo meu amor, você é incrível <3')\n",
        "pyautogui.hotkey('ctrl','v')"
      ]
    },
    {
      "cell_type": "code",
      "execution_count": null,
      "id": "cdb19adf",
      "metadata": {
        "id": "cdb19adf",
        "outputId": "d9c20b99-f5ae-4e31-da02-38b0920b143c"
      },
      "outputs": [
        {
          "name": "stdout",
          "output_type": "stream",
          "text": [
            "hello world\n"
          ]
        }
      ],
      "source": [
        "print('hello world')"
      ]
    },
    {
      "cell_type": "code",
      "execution_count": null,
      "id": "c383531c",
      "metadata": {
        "scrolled": true,
        "id": "c383531c",
        "outputId": "7b92b21d-3a38-48f4-eb7d-07c7a0565ad9"
      },
      "outputs": [
        {
          "name": "stdout",
          "output_type": "stream",
          "text": [
            "Defaulting to user installation because normal site-packages is not writeable\n",
            "Collecting pyautogui\n",
            "  Using cached PyAutoGUI-0.9.53.tar.gz (59 kB)\n",
            "  Preparing metadata (setup.py): started\n",
            "  Preparing metadata (setup.py): finished with status 'done'\n",
            "Requirement already satisfied: pymsgbox in c:\\users\\vinicius costa\\appdata\\roaming\\python\\python39\\site-packages (from pyautogui) (1.0.9)\n",
            "Requirement already satisfied: PyTweening>=1.0.1 in c:\\users\\vinicius costa\\appdata\\roaming\\python\\python39\\site-packages (from pyautogui) (1.0.4)\n",
            "Requirement already satisfied: pyscreeze>=0.1.21 in c:\\users\\vinicius costa\\appdata\\roaming\\python\\python39\\site-packages (from pyautogui) (0.1.28)\n",
            "Requirement already satisfied: pygetwindow>=0.0.5 in c:\\users\\vinicius costa\\appdata\\roaming\\python\\python39\\site-packages (from pyautogui) (0.0.9)\n",
            "Requirement already satisfied: mouseinfo in c:\\users\\vinicius costa\\appdata\\roaming\\python\\python39\\site-packages (from pyautogui) (0.1.3)\n",
            "Requirement already satisfied: pyrect in c:\\users\\vinicius costa\\appdata\\roaming\\python\\python39\\site-packages (from pygetwindow>=0.0.5->pyautogui) (0.2.0)\n",
            "Requirement already satisfied: pyperclip in c:\\users\\vinicius costa\\appdata\\roaming\\python\\python39\\site-packages (from mouseinfo->pyautogui) (1.8.2)\n",
            "Building wheels for collected packages: pyautogui\n",
            "  Building wheel for pyautogui (setup.py): started\n",
            "  Building wheel for pyautogui (setup.py): finished with status 'done'\n",
            "  Created wheel for pyautogui: filename=PyAutoGUI-0.9.53-py3-none-any.whl size=36601 sha256=fe601a2c0a76524671bc0d06d2975b771a6c8831d4ff3b06cf6bc3148af73baf\n",
            "  Stored in directory: c:\\users\\vinicius costa\\appdata\\local\\pip\\cache\\wheels\\d8\\97\\e4\\d2edca92a87d3b5fbfb527264750a17b4ba297b9a7cab6e67f\n",
            "Successfully built pyautogui\n",
            "Installing collected packages: pyautogui\n",
            "Successfully installed pyautogui-0.9.53\n"
          ]
        },
        {
          "name": "stderr",
          "output_type": "stream",
          "text": [
            "WARNING: Retrying (Retry(total=4, connect=None, read=None, redirect=None, status=None)) after connection broken by 'ConnectTimeoutError(<pip._vendor.urllib3.connection.HTTPSConnection object at 0x00000152093C1B50>, 'Connection to pypi.org timed out. (connect timeout=15)')': /simple/pyautogui/\n"
          ]
        },
        {
          "name": "stdout",
          "output_type": "stream",
          "text": [
            "Defaulting to user installation because normal site-packages is not writeable\n",
            "Collecting pyautogui\n",
            "  Using cached PyAutoGUI-0.9.53.tar.gz (59 kB)\n",
            "  Preparing metadata (setup.py): started\n",
            "  Preparing metadata (setup.py): finished with status 'done'\n",
            "Requirement already satisfied: pymsgbox in c:\\users\\vinicius costa\\appdata\\roaming\\python\\python39\\site-packages (from pyautogui) (1.0.9)\n",
            "Requirement already satisfied: PyTweening>=1.0.1 in c:\\users\\vinicius costa\\appdata\\roaming\\python\\python39\\site-packages (from pyautogui) (1.0.4)\n",
            "Requirement already satisfied: pyscreeze>=0.1.21 in c:\\users\\vinicius costa\\appdata\\roaming\\python\\python39\\site-packages (from pyautogui) (0.1.28)\n",
            "Requirement already satisfied: pygetwindow>=0.0.5 in c:\\users\\vinicius costa\\appdata\\roaming\\python\\python39\\site-packages (from pyautogui) (0.0.9)\n",
            "Requirement already satisfied: mouseinfo in c:\\users\\vinicius costa\\appdata\\roaming\\python\\python39\\site-packages (from pyautogui) (0.1.3)\n",
            "Requirement already satisfied: pyrect in c:\\users\\vinicius costa\\appdata\\roaming\\python\\python39\\site-packages (from pygetwindow>=0.0.5->pyautogui) (0.2.0)\n",
            "Requirement already satisfied: pyperclip in c:\\users\\vinicius costa\\appdata\\roaming\\python\\python39\\site-packages (from mouseinfo->pyautogui) (1.8.2)\n",
            "Building wheels for collected packages: pyautogui\n",
            "  Building wheel for pyautogui (setup.py): started\n",
            "  Building wheel for pyautogui (setup.py): finished with status 'done'\n",
            "  Created wheel for pyautogui: filename=PyAutoGUI-0.9.53-py3-none-any.whl size=36601 sha256=bf2bc69e8679870d2370dc347b1929242b90a95577179c749733acd8afdbe1aa\n",
            "  Stored in directory: c:\\users\\vinicius costa\\appdata\\local\\pip\\cache\\wheels\\d8\\97\\e4\\d2edca92a87d3b5fbfb527264750a17b4ba297b9a7cab6e67f\n",
            "Successfully built pyautogui\n",
            "Installing collected packages: pyautogui\n",
            "Successfully installed pyautogui-0.9.53\n"
          ]
        },
        {
          "name": "stderr",
          "output_type": "stream",
          "text": [
            "WARNING: Retrying (Retry(total=4, connect=None, read=None, redirect=None, status=None)) after connection broken by 'ConnectTimeoutError(<pip._vendor.urllib3.connection.HTTPSConnection object at 0x00000188D8541BB0>, 'Connection to pypi.org timed out. (connect timeout=15)')': /simple/pyautogui/\n",
            "WARNING: Retrying (Retry(total=3, connect=None, read=None, redirect=None, status=None)) after connection broken by 'ConnectTimeoutError(<pip._vendor.urllib3.connection.HTTPSConnection object at 0x00000188D8541EB0>, 'Connection to pypi.org timed out. (connect timeout=15)')': /simple/pyautogui/\n"
          ]
        },
        {
          "name": "stdout",
          "output_type": "stream",
          "text": [
            "Defaulting to user installation because normal site-packages is not writeable\n",
            "Collecting pyautogui\n",
            "  Using cached PyAutoGUI-0.9.53.tar.gz (59 kB)\n",
            "  Preparing metadata (setup.py): started\n",
            "  Preparing metadata (setup.py): finished with status 'done'\n",
            "Requirement already satisfied: pymsgbox in c:\\users\\vinicius costa\\appdata\\roaming\\python\\python39\\site-packages (from pyautogui) (1.0.9)\n",
            "Requirement already satisfied: PyTweening>=1.0.1 in c:\\users\\vinicius costa\\appdata\\roaming\\python\\python39\\site-packages (from pyautogui) (1.0.4)\n",
            "Requirement already satisfied: pyscreeze>=0.1.21 in c:\\users\\vinicius costa\\appdata\\roaming\\python\\python39\\site-packages (from pyautogui) (0.1.28)\n",
            "Requirement already satisfied: pygetwindow>=0.0.5 in c:\\users\\vinicius costa\\appdata\\roaming\\python\\python39\\site-packages (from pyautogui) (0.0.9)\n",
            "Requirement already satisfied: mouseinfo in c:\\users\\vinicius costa\\appdata\\roaming\\python\\python39\\site-packages (from pyautogui) (0.1.3)\n",
            "Requirement already satisfied: pyrect in c:\\users\\vinicius costa\\appdata\\roaming\\python\\python39\\site-packages (from pygetwindow>=0.0.5->pyautogui) (0.2.0)\n",
            "Requirement already satisfied: pyperclip in c:\\users\\vinicius costa\\appdata\\roaming\\python\\python39\\site-packages (from mouseinfo->pyautogui) (1.8.2)\n",
            "Building wheels for collected packages: pyautogui\n",
            "  Building wheel for pyautogui (setup.py): started\n",
            "  Building wheel for pyautogui (setup.py): finished with status 'done'\n",
            "  Created wheel for pyautogui: filename=PyAutoGUI-0.9.53-py3-none-any.whl size=36601 sha256=2dabab40a62f43b95ba200bddab9ac75e48d11789d348c8178867a5630451eba\n",
            "  Stored in directory: c:\\users\\vinicius costa\\appdata\\local\\pip\\cache\\wheels\\d8\\97\\e4\\d2edca92a87d3b5fbfb527264750a17b4ba297b9a7cab6e67f\n",
            "Successfully built pyautogui\n",
            "Installing collected packages: pyautogui\n",
            "Successfully installed pyautogui-0.9.53\n"
          ]
        }
      ],
      "source": [
        "!pip install pyautogui"
      ]
    },
    {
      "cell_type": "code",
      "execution_count": null,
      "id": "933f45fe",
      "metadata": {
        "id": "933f45fe"
      },
      "outputs": [],
      "source": [
        "import pyautogui\n",
        "import pyperclip\n",
        "import time\n",
        "import pandas as pd\n",
        "\n",
        "pyautogui.PAUSE = 3\n",
        "\n",
        "pyautogui.hotkey('ctrl','t')\n",
        "pyperclip.copy('https://drive.google.com/drive/folders/149xknr9JvrlEnhNWO49zPcw0PW5icxga')\n",
        "pyautogui.hotkey('ctrl','v')\n",
        "pyautogui.press('enter')\n",
        "\n",
        "time.sleep(2)\n",
        "\n",
        "pyautogui.click(x=344, y=297, clicks = 2)\n",
        "pyautogui.click(x=390, y=345)\n",
        "pyautogui.click(x=1160, y=189)\n",
        "pyautogui.click(x=860, y=630)\n",
        "\n",
        "time.sleep(6)\n",
        "\n",
        "tabela = pd.read_excel(r\"C:\\Users\\Vinicius Costa\\Desktop\\Jupyter\\dados\\VendasDez.xlsx\")\n",
        "\n",
        "faturamento = tabela[\"Valor Final\"].sum()\n",
        "quantidade = tabela[\"Quantidade\"].sum()\n",
        "\n",
        "\n",
        "pyautogui.click(x=806, y=508)\n",
        "#time.sleep(1)\n",
        "pyautogui.hotkey('ctrl','t')\n",
        "pyperclip.copy('https://mail.google.com/mail/u/0/#inbox')\n",
        "pyautogui.hotkey('ctrl','v')\n",
        "pyautogui.press('enter')\n",
        "\n",
        "time.sleep(4)\n",
        "\n",
        "pyautogui.click(x=162, y=196)\n",
        "pyautogui.write('vinicius123cs2@gmail.com')\n",
        "pyautogui.press('tab')\n",
        "pyautogui.press('tab')\n",
        "pyautogui.write('Recursos')\n",
        "pyautogui.press('tab')\n",
        "pyautogui.write(f'Prezados, bom dia\\n\\nO faturamento foi de R${faturamento:,.2f}\\nA quantidade vendida foi de {quantidade:,} unidades')\n",
        "pyautogui.click(x=854, y=639)"
      ]
    },
    {
      "cell_type": "code",
      "execution_count": null,
      "id": "3dce4100",
      "metadata": {
        "id": "3dce4100",
        "outputId": "192af701-7ea2-4f26-b60f-f14c61c0876d"
      },
      "outputs": [
        {
          "data": {
            "text/plain": [
              "Point(x=806, y=508)"
            ]
          },
          "execution_count": 26,
          "metadata": {},
          "output_type": "execute_result"
        }
      ],
      "source": [
        "import pyautogui\n",
        "import time\n",
        "time.sleep(5)\n",
        "pyautogui.position()"
      ]
    },
    {
      "cell_type": "code",
      "execution_count": null,
      "id": "d02a2fcf",
      "metadata": {
        "scrolled": false,
        "id": "d02a2fcf",
        "outputId": "6fb34239-a411-40c6-9fb3-07afe63c4e65"
      },
      "outputs": [
        {
          "data": {
            "text/html": [
              "<div>\n",
              "<style scoped>\n",
              "    .dataframe tbody tr th:only-of-type {\n",
              "        vertical-align: middle;\n",
              "    }\n",
              "\n",
              "    .dataframe tbody tr th {\n",
              "        vertical-align: top;\n",
              "    }\n",
              "\n",
              "    .dataframe thead th {\n",
              "        text-align: right;\n",
              "    }\n",
              "</style>\n",
              "<table border=\"1\" class=\"dataframe\">\n",
              "  <thead>\n",
              "    <tr style=\"text-align: right;\">\n",
              "      <th></th>\n",
              "      <th>Código Venda</th>\n",
              "      <th>Data</th>\n",
              "      <th>ID Loja</th>\n",
              "      <th>Produto</th>\n",
              "      <th>Quantidade</th>\n",
              "      <th>Valor Unitário</th>\n",
              "      <th>Valor Final</th>\n",
              "    </tr>\n",
              "  </thead>\n",
              "  <tbody>\n",
              "    <tr>\n",
              "      <th>0</th>\n",
              "      <td>65014</td>\n",
              "      <td>2019-12-01</td>\n",
              "      <td>Shopping Morumbi</td>\n",
              "      <td>Sunga Listrado</td>\n",
              "      <td>5</td>\n",
              "      <td>114</td>\n",
              "      <td>570</td>\n",
              "    </tr>\n",
              "    <tr>\n",
              "      <th>1</th>\n",
              "      <td>65014</td>\n",
              "      <td>2019-12-01</td>\n",
              "      <td>Shopping Morumbi</td>\n",
              "      <td>Casaco Listrado</td>\n",
              "      <td>1</td>\n",
              "      <td>269</td>\n",
              "      <td>269</td>\n",
              "    </tr>\n",
              "    <tr>\n",
              "      <th>2</th>\n",
              "      <td>65016</td>\n",
              "      <td>2019-12-01</td>\n",
              "      <td>Iguatemi Campinas</td>\n",
              "      <td>Sapato Listrado</td>\n",
              "      <td>2</td>\n",
              "      <td>363</td>\n",
              "      <td>726</td>\n",
              "    </tr>\n",
              "    <tr>\n",
              "      <th>3</th>\n",
              "      <td>65016</td>\n",
              "      <td>2019-12-01</td>\n",
              "      <td>Iguatemi Campinas</td>\n",
              "      <td>Casaco</td>\n",
              "      <td>1</td>\n",
              "      <td>250</td>\n",
              "      <td>250</td>\n",
              "    </tr>\n",
              "    <tr>\n",
              "      <th>4</th>\n",
              "      <td>65017</td>\n",
              "      <td>2019-12-01</td>\n",
              "      <td>Shopping SP Market</td>\n",
              "      <td>Gorro Liso</td>\n",
              "      <td>3</td>\n",
              "      <td>92</td>\n",
              "      <td>276</td>\n",
              "    </tr>\n",
              "    <tr>\n",
              "      <th>...</th>\n",
              "      <td>...</td>\n",
              "      <td>...</td>\n",
              "      <td>...</td>\n",
              "      <td>...</td>\n",
              "      <td>...</td>\n",
              "      <td>...</td>\n",
              "      <td>...</td>\n",
              "    </tr>\n",
              "    <tr>\n",
              "      <th>7084</th>\n",
              "      <td>69996</td>\n",
              "      <td>2019-12-26</td>\n",
              "      <td>Center Shopping Uberlândia</td>\n",
              "      <td>Short Listrado</td>\n",
              "      <td>2</td>\n",
              "      <td>102</td>\n",
              "      <td>204</td>\n",
              "    </tr>\n",
              "    <tr>\n",
              "      <th>7085</th>\n",
              "      <td>69996</td>\n",
              "      <td>2019-12-26</td>\n",
              "      <td>Center Shopping Uberlândia</td>\n",
              "      <td>Mochila</td>\n",
              "      <td>4</td>\n",
              "      <td>270</td>\n",
              "      <td>1080</td>\n",
              "    </tr>\n",
              "    <tr>\n",
              "      <th>7086</th>\n",
              "      <td>69996</td>\n",
              "      <td>2019-12-26</td>\n",
              "      <td>Center Shopping Uberlândia</td>\n",
              "      <td>Pulseira Estampa</td>\n",
              "      <td>1</td>\n",
              "      <td>87</td>\n",
              "      <td>87</td>\n",
              "    </tr>\n",
              "    <tr>\n",
              "      <th>7087</th>\n",
              "      <td>69997</td>\n",
              "      <td>2019-12-26</td>\n",
              "      <td>Ribeirão Shopping</td>\n",
              "      <td>Camisa Listrado</td>\n",
              "      <td>1</td>\n",
              "      <td>108</td>\n",
              "      <td>108</td>\n",
              "    </tr>\n",
              "    <tr>\n",
              "      <th>7088</th>\n",
              "      <td>69997</td>\n",
              "      <td>2019-12-26</td>\n",
              "      <td>Ribeirão Shopping</td>\n",
              "      <td>Short Linho</td>\n",
              "      <td>2</td>\n",
              "      <td>133</td>\n",
              "      <td>266</td>\n",
              "    </tr>\n",
              "  </tbody>\n",
              "</table>\n",
              "<p>7089 rows × 7 columns</p>\n",
              "</div>"
            ],
            "text/plain": [
              "      Código Venda       Data                     ID Loja           Produto  \\\n",
              "0            65014 2019-12-01            Shopping Morumbi    Sunga Listrado   \n",
              "1            65014 2019-12-01            Shopping Morumbi   Casaco Listrado   \n",
              "2            65016 2019-12-01           Iguatemi Campinas   Sapato Listrado   \n",
              "3            65016 2019-12-01           Iguatemi Campinas            Casaco   \n",
              "4            65017 2019-12-01          Shopping SP Market        Gorro Liso   \n",
              "...            ...        ...                         ...               ...   \n",
              "7084         69996 2019-12-26  Center Shopping Uberlândia    Short Listrado   \n",
              "7085         69996 2019-12-26  Center Shopping Uberlândia           Mochila   \n",
              "7086         69996 2019-12-26  Center Shopping Uberlândia  Pulseira Estampa   \n",
              "7087         69997 2019-12-26           Ribeirão Shopping   Camisa Listrado   \n",
              "7088         69997 2019-12-26           Ribeirão Shopping       Short Linho   \n",
              "\n",
              "      Quantidade  Valor Unitário  Valor Final  \n",
              "0              5             114          570  \n",
              "1              1             269          269  \n",
              "2              2             363          726  \n",
              "3              1             250          250  \n",
              "4              3              92          276  \n",
              "...          ...             ...          ...  \n",
              "7084           2             102          204  \n",
              "7085           4             270         1080  \n",
              "7086           1              87           87  \n",
              "7087           1             108          108  \n",
              "7088           2             133          266  \n",
              "\n",
              "[7089 rows x 7 columns]"
            ]
          },
          "metadata": {},
          "output_type": "display_data"
        },
        {
          "name": "stdout",
          "output_type": "stream",
          "text": [
            "2917311\n",
            "15227\n"
          ]
        }
      ],
      "source": [
        "import pandas as pd\n",
        "tabela = pd.read_excel(r\"C:\\Users\\Vinicius Costa\\Desktop\\Jupyter\\dados\\VendasDez.xlsx\")\n",
        "display(tabela)\n",
        "\n",
        "faturamento = tabela[\"Valor Final\"].sum()\n",
        "quantidade = tabela[\"Quantidade\"].sum()\n",
        "\n",
        "print(faturamento)\n",
        "print(quantidade)\n",
        "\n",
        "pyautogui.press('ctrl','t')\n",
        "pyperclip.copy('https://mail.google.com/mail/u/0/#inbox')\n",
        "pyautogui.press('ctrl','v')\n",
        "pyautogui.click(x=162, y=196)\n",
        "pyautogui.write('vinicius123cs2@gmail.com')\n",
        "pyautogui.press('tab')\n",
        "pyperclip.copy('Análises')\n",
        "pyautogui.press('crtl','v')\n",
        "pyautogui.press('tab')\n",
        "pyautogui.write('O Faturamento foi de R${}\\nA Quantidade vendida foi de {} unidades'.format(faturamento,quantidade))\n",
        "pyautogui.click(x=854, y=639)"
      ]
    },
    {
      "cell_type": "code",
      "execution_count": null,
      "id": "3065b442",
      "metadata": {
        "id": "3065b442"
      },
      "outputs": [],
      "source": [
        "pyautogui.press('ctrl','t')\n",
        "pyperclip.copy('https://mail.google.com/mail/u/0/#inbox')\n",
        "pyautogui.press('ctrl','v')\n",
        "pyautogui.click(x=162, y=196)\n",
        "pyautogui.write('vinicius123cs2@gmail.com')\n",
        "pyautogui.press('tab')\n",
        "pyperclip.copy('Análises')\n",
        "pyautogui.press('crtl','v')\n",
        "pyautogui.press('tab')\n",
        "pyautogui.write('O Faturamento foi de R${}\\nA Quantidade vendida foi de {} unidades'.format(faturamento,quantidade))"
      ]
    },
    {
      "cell_type": "code",
      "execution_count": null,
      "id": "63a6b7e3",
      "metadata": {
        "id": "63a6b7e3",
        "outputId": "ccf86ce6-8ed4-4933-8eda-802c50a5f72c"
      },
      "outputs": [
        {
          "name": "stdout",
          "output_type": "stream",
          "text": [
            "Defaulting to user installation because normal site-packages is not writeable\n",
            "Requirement already satisfied: openpyxl in c:\\programdata\\anaconda3\\lib\\site-packages (3.0.10)\n",
            "Requirement already satisfied: et_xmlfile in c:\\programdata\\anaconda3\\lib\\site-packages (from openpyxl) (1.1.0)\n"
          ]
        }
      ],
      "source": [
        "!pip install openpyxl"
      ]
    },
    {
      "cell_type": "code",
      "execution_count": null,
      "id": "6b0516ce",
      "metadata": {
        "id": "6b0516ce",
        "outputId": "dcac1823-748e-4052-d2f2-a555fa6a7532"
      },
      "outputs": [
        {
          "name": "stdout",
          "output_type": "stream",
          "text": [
            "Requirement already satisfied: pandas in c:\\programdata\\anaconda3\\lib\\site-packages (1.4.4)\n",
            "Requirement already satisfied: pytz>=2020.1 in c:\\programdata\\anaconda3\\lib\\site-packages (from pandas) (2022.1)\n",
            "Requirement already satisfied: numpy>=1.18.5 in c:\\programdata\\anaconda3\\lib\\site-packages (from pandas) (1.21.5)\n",
            "Requirement already satisfied: python-dateutil>=2.8.1 in c:\\programdata\\anaconda3\\lib\\site-packages (from pandas) (2.8.2)\n",
            "Requirement already satisfied: six>=1.5 in c:\\programdata\\anaconda3\\lib\\site-packages (from python-dateutil>=2.8.1->pandas) (1.16.0)\n"
          ]
        }
      ],
      "source": [
        "!pip install pandas"
      ]
    },
    {
      "cell_type": "code",
      "execution_count": null,
      "id": "1a7136ac",
      "metadata": {
        "id": "1a7136ac"
      },
      "outputs": [],
      "source": []
    }
  ],
  "metadata": {
    "kernelspec": {
      "display_name": "Python 3 (ipykernel)",
      "language": "python",
      "name": "python3"
    },
    "language_info": {
      "codemirror_mode": {
        "name": "ipython",
        "version": 3
      },
      "file_extension": ".py",
      "mimetype": "text/x-python",
      "name": "python",
      "nbconvert_exporter": "python",
      "pygments_lexer": "ipython3",
      "version": "3.9.13"
    },
    "colab": {
      "provenance": [],
      "include_colab_link": true
    }
  },
  "nbformat": 4,
  "nbformat_minor": 5
}